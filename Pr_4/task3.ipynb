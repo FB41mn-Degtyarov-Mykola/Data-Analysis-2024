{
  "nbformat": 4,
  "nbformat_minor": 0,
  "metadata": {
    "colab": {
      "provenance": [],
      "gpuType": "T4"
    },
    "kernelspec": {
      "name": "python3",
      "display_name": "Python 3"
    },
    "language_info": {
      "name": "python"
    },
    "accelerator": "GPU"
  },
  "cells": [
    {
      "cell_type": "markdown",
      "source": [
        "3. Завдання щодо генерації або стилізації зображень (на вибір) <br>\n",
        "Вирішіть завдання перенесення стилю або генерації зображень (архітектура за вашим вибором: GAN/DCGAN/VAE/Diffusion). <br>\n",
        "Датасети: можна брати CIFAR-100, Fashion MNIST або тут: https://www.kaggle.com/tags/image-data <br>\n",
        "Приклади: <br>\n",
        "https://github.com/natsakh/Data-Analysis/tree/main/Pr_9 <br>\n",
        "https://keras.io/examples/generative/neural_style_transfer/ <br>\n",
        "https://keras.io/examples/generative/ddim/"
      ],
      "metadata": {
        "id": "nxHDt0OQtNxw"
      }
    },
    {
      "cell_type": "markdown",
      "source": [
        "Використовую MNIST FASHION датасет"
      ],
      "metadata": {
        "id": "87CQikuR5672"
      }
    },
    {
      "cell_type": "code",
      "source": [
        "import tensorflow as tf\n",
        "from tensorflow.keras import layers\n",
        "import matplotlib.pyplot as plt\n",
        "import numpy as np\n",
        "import os\n",
        "from tqdm import tqdm\n"
      ],
      "metadata": {
        "id": "1rGId9A7tQiv"
      },
      "execution_count": 9,
      "outputs": []
    },
    {
      "cell_type": "code",
      "source": [
        "\n",
        "# Ensure reproducibility\n",
        "tf.random.set_seed(1234)\n",
        "np.random.seed(1234)\n",
        "\n",
        "# Hyperparameters\n",
        "BATCH_SIZE = 128\n",
        "NOISE_DIM = 100\n",
        "EPOCHS = 50  # You can adjust this as needed\n",
        "BUFFER_SIZE = 60000\n",
        "IMAGE_SHAPE = (28, 28, 1)\n",
        "CHECKPOINT_EVERY = 10  # Save checkpoint every 10 epochs\n",
        "\n",
        "# Create directories for saving outputs\n",
        "os.makedirs('generated_images', exist_ok=True)\n",
        "os.makedirs('checkpoints', exist_ok=True)\n",
        "\n",
        "# Load Fashion MNIST\n",
        "(train_images, train_labels), (test_images, test_labels) = tf.keras.datasets.fashion_mnist.load_data()\n",
        "\n",
        "# Normalize the images to [-1, 1]\n",
        "train_images = (train_images.astype('float32') - 127.5) / 127.5\n",
        "test_images = (test_images.astype('float32') - 127.5) / 127.5\n",
        "\n",
        "# Expand dimensions to add channel axis\n",
        "train_images = np.expand_dims(train_images, axis=-1)  # Shape: (60000, 28, 28, 1)\n",
        "test_images = np.expand_dims(test_images, axis=-1)    # Shape: (10000, 28, 28, 1)\n",
        "\n",
        "# Create TensorFlow datasets\n",
        "train_dataset = tf.data.Dataset.from_tensor_slices(train_images).shuffle(BUFFER_SIZE).batch(BATCH_SIZE)\n",
        "test_dataset = tf.data.Dataset.from_tensor_slices(test_images).batch(BATCH_SIZE)\n"
      ],
      "metadata": {
        "id": "6wUlRjEc5pVC"
      },
      "execution_count": null,
      "outputs": []
    },
    {
      "cell_type": "code",
      "source": [
        "\n",
        "# Generator Model\n",
        "def make_generator_model():\n",
        "    model = tf.keras.Sequential()\n",
        "    model.add(layers.Dense(7*7*256, use_bias=False, input_shape=(NOISE_DIM,)))\n",
        "    model.add(layers.BatchNormalization())\n",
        "    model.add(layers.LeakyReLU())\n",
        "\n",
        "    model.add(layers.Reshape((7, 7, 256)))  # Shape: (7, 7, 256)\n",
        "\n",
        "    model.add(layers.Conv2DTranspose(128, kernel_size=5, strides=1, padding='same', use_bias=False))\n",
        "    model.add(layers.BatchNormalization())\n",
        "    model.add(layers.LeakyReLU())\n",
        "\n",
        "    model.add(layers.Conv2DTranspose(64, kernel_size=5, strides=2, padding='same', use_bias=False))\n",
        "    model.add(layers.BatchNormalization())\n",
        "    model.add(layers.LeakyReLU())\n",
        "\n",
        "    model.add(layers.Conv2DTranspose(1, kernel_size=5, strides=2, padding='same', use_bias=False, activation='tanh'))\n",
        "    # Output shape: (28, 28, 1)\n",
        "\n",
        "    return model\n"
      ],
      "metadata": {
        "id": "kpaMzUVd5qlw"
      },
      "execution_count": null,
      "outputs": []
    },
    {
      "cell_type": "code",
      "source": [
        "\n",
        "# Discriminator Model\n",
        "def make_discriminator_model():\n",
        "    model = tf.keras.Sequential()\n",
        "    model.add(layers.Conv2D(64, kernel_size=5, strides=2, padding='same', input_shape=IMAGE_SHAPE))\n",
        "    model.add(layers.LeakyReLU())\n",
        "    model.add(layers.Dropout(0.3))\n",
        "\n",
        "    model.add(layers.Conv2D(128, kernel_size=5, strides=2, padding='same'))\n",
        "    model.add(layers.LeakyReLU())\n",
        "    model.add(layers.Dropout(0.3))\n",
        "\n",
        "    model.add(layers.Flatten())\n",
        "    model.add(layers.Dense(1))  # Output: Real or Fake\n",
        "\n",
        "    return model\n"
      ],
      "metadata": {
        "id": "gx0SjlVq5sPS"
      },
      "execution_count": null,
      "outputs": []
    },
    {
      "cell_type": "code",
      "source": [
        "\n",
        "# Instantiate models\n",
        "generator = make_generator_model()\n",
        "discriminator = make_discriminator_model()\n",
        "\n",
        "# Loss function\n",
        "cross_entropy = tf.keras.losses.BinaryCrossentropy(from_logits=True)\n",
        "\n",
        "# Discriminator loss\n",
        "def discriminator_loss(real_output, fake_output):\n",
        "    real_loss = cross_entropy(tf.ones_like(real_output), real_output)  # Real images labeled as 1\n",
        "    fake_loss = cross_entropy(tf.zeros_like(fake_output), fake_output)  # Fake images labeled as 0\n",
        "    total_loss = real_loss + fake_loss\n",
        "    return total_loss\n",
        "\n",
        "# Generator loss\n",
        "def generator_loss(fake_output):\n",
        "    return cross_entropy(tf.ones_like(fake_output), fake_output)  # Try to label fake as real\n",
        "\n",
        "# Optimizers\n",
        "generator_optimizer = tf.keras.optimizers.Adam(1e-4)\n",
        "discriminator_optimizer = tf.keras.optimizers.Adam(1e-4)\n",
        "\n",
        "# Checkpointing\n",
        "checkpoint_dir = './checkpoints'\n",
        "checkpoint_prefix = os.path.join(checkpoint_dir, \"ckpt\")\n",
        "checkpoint = tf.train.Checkpoint(generator_optimizer=generator_optimizer,\n",
        "                                 discriminator_optimizer=discriminator_optimizer,\n",
        "                                 generator=generator,\n",
        "                                 discriminator=discriminator)\n"
      ],
      "metadata": {
        "id": "w_yl_ndQ5tYJ"
      },
      "execution_count": null,
      "outputs": []
    },
    {
      "cell_type": "code",
      "source": [
        "\n",
        "# Seed for generating images\n",
        "num_examples_to_generate = 16\n",
        "seed = tf.random.normal([num_examples_to_generate, NOISE_DIM])\n",
        "\n",
        "# Function to generate and save images\n",
        "def generate_and_save_images(model, epoch, test_input):\n",
        "    # Generate images from the seed\n",
        "    predictions = model(test_input, training=False)\n",
        "\n",
        "    # Rescale images from [-1,1] to [0,1]\n",
        "    predictions = (predictions + 1) / 2.0\n",
        "\n",
        "    fig = plt.figure(figsize=(4,4))\n",
        "\n",
        "    for i in range(predictions.shape[0]):\n",
        "        plt.subplot(4, 4, i+1)\n",
        "        plt.imshow(predictions[i, :, :, 0], cmap='gray')\n",
        "        plt.axis('off')\n",
        "\n",
        "    plt.tight_layout()\n",
        "    plt.savefig(f'generated_images/image_at_epoch_{epoch:04d}.png')\n",
        "    plt.close(fig)\n"
      ],
      "metadata": {
        "id": "qDBgzNZE5usa"
      },
      "execution_count": null,
      "outputs": []
    },
    {
      "cell_type": "code",
      "source": [
        "\n",
        "# Function to evaluate discriminator on test dataset\n",
        "def evaluate_discriminator(model, test_dataset):\n",
        "    real_labels = []\n",
        "    fake_labels = []\n",
        "    real_preds = []\n",
        "    fake_preds = []\n",
        "\n",
        "    for test_batch in test_dataset:\n",
        "        real_output = model(test_batch, training=False)\n",
        "        real_preds.extend(real_output.numpy())\n",
        "        real_labels.extend([1] * test_batch.shape[0])\n",
        "\n",
        "        # Generate fake images\n",
        "        noise = tf.random.normal([test_batch.shape[0], NOISE_DIM])\n",
        "        fake_images = generator(noise, training=False)\n",
        "        fake_output = model(fake_images, training=False)\n",
        "        fake_preds.extend(fake_output.numpy())\n",
        "        fake_labels.extend([0] * test_batch.shape[0])\n",
        "\n",
        "    # Combine and compute metrics\n",
        "    all_preds = np.array(real_preds + fake_preds).flatten()\n",
        "    all_labels = np.array(real_labels + fake_labels)\n",
        "\n",
        "    # Compute accuracy\n",
        "    predictions_binary = (all_preds > 0.5).astype(int)\n",
        "    accuracy = np.mean(predictions_binary == all_labels)\n",
        "\n",
        "    # Compute loss\n",
        "    loss = cross_entropy(all_labels, all_preds).numpy()\n",
        "\n",
        "    return loss, accuracy\n"
      ],
      "metadata": {
        "id": "ywqINHwI5x_H"
      },
      "execution_count": null,
      "outputs": []
    },
    {
      "cell_type": "code",
      "source": [
        "\n",
        "# Training step\n",
        "@tf.function\n",
        "def train_step(images):\n",
        "    noise = tf.random.normal([BATCH_SIZE, NOISE_DIM])\n",
        "\n",
        "    with tf.GradientTape() as gen_tape, tf.GradientTape() as disc_tape:\n",
        "        generated_images = generator(noise, training=True)\n",
        "\n",
        "        real_output = discriminator(images, training=True)\n",
        "        fake_output = discriminator(generated_images, training=True)\n",
        "\n",
        "        gen_loss = generator_loss(fake_output)\n",
        "        disc_loss = discriminator_loss(real_output, fake_output)\n",
        "\n",
        "    gradients_of_generator = gen_tape.gradient(gen_loss, generator.trainable_variables)\n",
        "    gradients_of_discriminator = disc_tape.gradient(disc_loss, discriminator.trainable_variables)\n",
        "\n",
        "    generator_optimizer.apply_gradients(zip(gradients_of_generator, generator.trainable_variables))\n",
        "    discriminator_optimizer.apply_gradients(zip(gradients_of_discriminator, discriminator.trainable_variables))\n",
        "\n",
        "    return gen_loss, disc_loss\n"
      ],
      "metadata": {
        "id": "aKIwui6w5vgK"
      },
      "execution_count": null,
      "outputs": []
    },
    {
      "cell_type": "code",
      "source": [
        "\n",
        "# Training loop\n",
        "def train(train_dataset, test_dataset, epochs):\n",
        "    for epoch in range(1, epochs + 1):\n",
        "        gen_loss_avg = 0.0\n",
        "        disc_loss_avg = 0.0\n",
        "        num_batches = 0\n",
        "\n",
        "        # Progress bar for the current epoch\n",
        "        with tqdm(total=len(train_dataset), desc=f\"Epoch {epoch}/{epochs}\", unit=\"batch\") as pbar:\n",
        "            for image_batch in train_dataset:\n",
        "                gen_loss, disc_loss = train_step(image_batch)\n",
        "                gen_loss_avg += gen_loss.numpy()\n",
        "                disc_loss_avg += disc_loss.numpy()\n",
        "                num_batches += 1\n",
        "                pbar.update(1)\n",
        "\n",
        "        # Average losses\n",
        "        gen_loss_avg /= num_batches\n",
        "        disc_loss_avg /= num_batches\n",
        "\n",
        "        # Generate and save images\n",
        "        generate_and_save_images(generator, epoch, seed)\n",
        "\n",
        "        # Evaluate discriminator on test dataset\n",
        "        disc_test_loss, disc_test_acc = evaluate_discriminator(discriminator, test_dataset)\n",
        "\n",
        "        # Print epoch summary\n",
        "        print(f\"Epoch {epoch}/{epochs} - Gen Loss: {gen_loss_avg:.4f}, Disc Loss: {disc_loss_avg:.4f}, \"\n",
        "              f\"Disc Test Loss: {disc_test_loss:.4f}, Disc Test Acc: {disc_test_acc:.4f}\")\n",
        "\n",
        "        # Save checkpoints at specified intervals\n",
        "        if epoch % CHECKPOINT_EVERY == 0:\n",
        "            checkpoint.save(file_prefix=checkpoint_prefix)\n",
        "            print(f\"Checkpoint saved at epoch {epoch}.\")\n",
        "\n",
        "    # Generate after the final epoch\n",
        "    generate_and_save_images(generator, epochs, seed)\n"
      ],
      "metadata": {
        "id": "8CokMtXp5wjz"
      },
      "execution_count": null,
      "outputs": []
    },
    {
      "cell_type": "code",
      "source": [
        "\n",
        "# Start training\n",
        "train(train_dataset, test_dataset, EPOCHS)\n"
      ],
      "metadata": {
        "colab": {
          "base_uri": "https://localhost:8080/"
        },
        "id": "efqmhCfM19kC",
        "outputId": "9995f36c-65b1-447e-ad80-8ea9db05ccca"
      },
      "execution_count": 10,
      "outputs": [
        {
          "output_type": "stream",
          "name": "stderr",
          "text": [
            "Epoch 1/50: 100%|██████████| 469/469 [00:20<00:00, 22.78batch/s]\n"
          ]
        },
        {
          "output_type": "stream",
          "name": "stdout",
          "text": [
            "Epoch 1/50 - Gen Loss: 0.8512, Disc Loss: 1.1682, Disc Test Loss: 0.3627, Disc Test Acc: 0.8370\n"
          ]
        },
        {
          "output_type": "stream",
          "name": "stderr",
          "text": [
            "Epoch 2/50: 100%|██████████| 469/469 [00:13<00:00, 34.03batch/s]\n"
          ]
        },
        {
          "output_type": "stream",
          "name": "stdout",
          "text": [
            "Epoch 2/50 - Gen Loss: 0.9670, Disc Loss: 1.1805, Disc Test Loss: 0.4718, Disc Test Acc: 0.7557\n"
          ]
        },
        {
          "output_type": "stream",
          "name": "stderr",
          "text": [
            "Epoch 3/50: 100%|██████████| 469/469 [00:13<00:00, 33.93batch/s]\n"
          ]
        },
        {
          "output_type": "stream",
          "name": "stdout",
          "text": [
            "Epoch 3/50 - Gen Loss: 1.0163, Disc Loss: 1.1992, Disc Test Loss: 0.7576, Disc Test Acc: 0.5525\n"
          ]
        },
        {
          "output_type": "stream",
          "name": "stderr",
          "text": [
            "Epoch 4/50: 100%|██████████| 469/469 [00:13<00:00, 34.28batch/s]\n"
          ]
        },
        {
          "output_type": "stream",
          "name": "stdout",
          "text": [
            "Epoch 4/50 - Gen Loss: 0.9767, Disc Loss: 1.1725, Disc Test Loss: 0.6682, Disc Test Acc: 0.6586\n"
          ]
        },
        {
          "output_type": "stream",
          "name": "stderr",
          "text": [
            "Epoch 5/50: 100%|██████████| 469/469 [00:13<00:00, 34.26batch/s]\n"
          ]
        },
        {
          "output_type": "stream",
          "name": "stdout",
          "text": [
            "Epoch 5/50 - Gen Loss: 0.9339, Disc Loss: 1.2442, Disc Test Loss: 0.5692, Disc Test Acc: 0.6375\n"
          ]
        },
        {
          "output_type": "stream",
          "name": "stderr",
          "text": [
            "Epoch 6/50: 100%|██████████| 469/469 [00:20<00:00, 22.92batch/s]\n"
          ]
        },
        {
          "output_type": "stream",
          "name": "stdout",
          "text": [
            "Epoch 6/50 - Gen Loss: 0.9853, Disc Loss: 1.1172, Disc Test Loss: 0.4842, Disc Test Acc: 0.7356\n"
          ]
        },
        {
          "output_type": "stream",
          "name": "stderr",
          "text": [
            "Epoch 7/50: 100%|██████████| 469/469 [00:13<00:00, 34.60batch/s]\n"
          ]
        },
        {
          "output_type": "stream",
          "name": "stdout",
          "text": [
            "Epoch 7/50 - Gen Loss: 1.1167, Disc Loss: 1.1514, Disc Test Loss: 0.9898, Disc Test Acc: 0.4474\n"
          ]
        },
        {
          "output_type": "stream",
          "name": "stderr",
          "text": [
            "Epoch 8/50: 100%|██████████| 469/469 [00:13<00:00, 33.92batch/s]\n"
          ]
        },
        {
          "output_type": "stream",
          "name": "stdout",
          "text": [
            "Epoch 8/50 - Gen Loss: 1.0980, Disc Loss: 1.0595, Disc Test Loss: 0.5791, Disc Test Acc: 0.7091\n"
          ]
        },
        {
          "output_type": "stream",
          "name": "stderr",
          "text": [
            "Epoch 9/50: 100%|██████████| 469/469 [00:13<00:00, 34.14batch/s]\n"
          ]
        },
        {
          "output_type": "stream",
          "name": "stdout",
          "text": [
            "Epoch 9/50 - Gen Loss: 1.2180, Disc Loss: 0.9876, Disc Test Loss: 0.6327, Disc Test Acc: 0.6737\n"
          ]
        },
        {
          "output_type": "stream",
          "name": "stderr",
          "text": [
            "Epoch 10/50: 100%|██████████| 469/469 [00:13<00:00, 34.42batch/s]\n"
          ]
        },
        {
          "output_type": "stream",
          "name": "stdout",
          "text": [
            "Epoch 10/50 - Gen Loss: 1.4013, Disc Loss: 0.8826, Disc Test Loss: 0.4455, Disc Test Acc: 0.8095\n",
            "Checkpoint saved at epoch 10.\n"
          ]
        },
        {
          "output_type": "stream",
          "name": "stderr",
          "text": [
            "Epoch 11/50: 100%|██████████| 469/469 [00:13<00:00, 34.38batch/s]\n"
          ]
        },
        {
          "output_type": "stream",
          "name": "stdout",
          "text": [
            "Epoch 11/50 - Gen Loss: 1.4399, Disc Loss: 0.8723, Disc Test Loss: 0.5952, Disc Test Acc: 0.7127\n"
          ]
        },
        {
          "output_type": "stream",
          "name": "stderr",
          "text": [
            "Epoch 12/50: 100%|██████████| 469/469 [00:13<00:00, 34.63batch/s]\n"
          ]
        },
        {
          "output_type": "stream",
          "name": "stdout",
          "text": [
            "Epoch 12/50 - Gen Loss: 1.5323, Disc Loss: 0.8166, Disc Test Loss: 0.4879, Disc Test Acc: 0.7685\n"
          ]
        },
        {
          "output_type": "stream",
          "name": "stderr",
          "text": [
            "Epoch 13/50: 100%|██████████| 469/469 [00:13<00:00, 34.33batch/s]\n"
          ]
        },
        {
          "output_type": "stream",
          "name": "stdout",
          "text": [
            "Epoch 13/50 - Gen Loss: 1.7498, Disc Loss: 0.7315, Disc Test Loss: 0.2641, Disc Test Acc: 0.8916\n"
          ]
        },
        {
          "output_type": "stream",
          "name": "stderr",
          "text": [
            "Epoch 14/50: 100%|██████████| 469/469 [00:13<00:00, 34.36batch/s]\n"
          ]
        },
        {
          "output_type": "stream",
          "name": "stdout",
          "text": [
            "Epoch 14/50 - Gen Loss: 1.6849, Disc Loss: 0.7887, Disc Test Loss: 0.4199, Disc Test Acc: 0.7968\n"
          ]
        },
        {
          "output_type": "stream",
          "name": "stderr",
          "text": [
            "Epoch 15/50: 100%|██████████| 469/469 [00:20<00:00, 22.92batch/s]\n"
          ]
        },
        {
          "output_type": "stream",
          "name": "stdout",
          "text": [
            "Epoch 15/50 - Gen Loss: 1.6104, Disc Loss: 0.8354, Disc Test Loss: 0.3094, Disc Test Acc: 0.8546\n"
          ]
        },
        {
          "output_type": "stream",
          "name": "stderr",
          "text": [
            "Epoch 16/50: 100%|██████████| 469/469 [00:20<00:00, 22.91batch/s]\n"
          ]
        },
        {
          "output_type": "stream",
          "name": "stdout",
          "text": [
            "Epoch 16/50 - Gen Loss: 1.6896, Disc Loss: 0.8096, Disc Test Loss: 0.3181, Disc Test Acc: 0.8721\n"
          ]
        },
        {
          "output_type": "stream",
          "name": "stderr",
          "text": [
            "Epoch 17/50: 100%|██████████| 469/469 [00:20<00:00, 22.92batch/s]\n"
          ]
        },
        {
          "output_type": "stream",
          "name": "stdout",
          "text": [
            "Epoch 17/50 - Gen Loss: 1.5443, Disc Loss: 0.8584, Disc Test Loss: 0.3288, Disc Test Acc: 0.8581\n"
          ]
        },
        {
          "output_type": "stream",
          "name": "stderr",
          "text": [
            "Epoch 18/50: 100%|██████████| 469/469 [00:13<00:00, 34.33batch/s]\n"
          ]
        },
        {
          "output_type": "stream",
          "name": "stdout",
          "text": [
            "Epoch 18/50 - Gen Loss: 1.5272, Disc Loss: 0.8932, Disc Test Loss: 0.3660, Disc Test Acc: 0.8286\n"
          ]
        },
        {
          "output_type": "stream",
          "name": "stderr",
          "text": [
            "Epoch 19/50: 100%|██████████| 469/469 [00:20<00:00, 22.92batch/s]\n"
          ]
        },
        {
          "output_type": "stream",
          "name": "stdout",
          "text": [
            "Epoch 19/50 - Gen Loss: 1.6042, Disc Loss: 0.8423, Disc Test Loss: 0.4083, Disc Test Acc: 0.8115\n"
          ]
        },
        {
          "output_type": "stream",
          "name": "stderr",
          "text": [
            "Epoch 20/50: 100%|██████████| 469/469 [00:20<00:00, 22.92batch/s]\n"
          ]
        },
        {
          "output_type": "stream",
          "name": "stdout",
          "text": [
            "Epoch 20/50 - Gen Loss: 1.4936, Disc Loss: 0.9059, Disc Test Loss: 0.3626, Disc Test Acc: 0.8292\n",
            "Checkpoint saved at epoch 20.\n"
          ]
        },
        {
          "output_type": "stream",
          "name": "stderr",
          "text": [
            "Epoch 21/50: 100%|██████████| 469/469 [00:13<00:00, 34.32batch/s]\n"
          ]
        },
        {
          "output_type": "stream",
          "name": "stdout",
          "text": [
            "Epoch 21/50 - Gen Loss: 1.4622, Disc Loss: 0.8985, Disc Test Loss: 0.4164, Disc Test Acc: 0.7930\n"
          ]
        },
        {
          "output_type": "stream",
          "name": "stderr",
          "text": [
            "Epoch 22/50: 100%|██████████| 469/469 [00:13<00:00, 33.78batch/s]\n"
          ]
        },
        {
          "output_type": "stream",
          "name": "stdout",
          "text": [
            "Epoch 22/50 - Gen Loss: 1.4547, Disc Loss: 0.9120, Disc Test Loss: 0.3624, Disc Test Acc: 0.8395\n"
          ]
        },
        {
          "output_type": "stream",
          "name": "stderr",
          "text": [
            "Epoch 23/50: 100%|██████████| 469/469 [00:20<00:00, 22.92batch/s]\n"
          ]
        },
        {
          "output_type": "stream",
          "name": "stdout",
          "text": [
            "Epoch 23/50 - Gen Loss: 1.4689, Disc Loss: 0.9025, Disc Test Loss: 0.3634, Disc Test Acc: 0.8177\n"
          ]
        },
        {
          "output_type": "stream",
          "name": "stderr",
          "text": [
            "Epoch 24/50: 100%|██████████| 469/469 [00:13<00:00, 34.69batch/s]\n"
          ]
        },
        {
          "output_type": "stream",
          "name": "stdout",
          "text": [
            "Epoch 24/50 - Gen Loss: 1.5265, Disc Loss: 0.8889, Disc Test Loss: 0.3652, Disc Test Acc: 0.8217\n"
          ]
        },
        {
          "output_type": "stream",
          "name": "stderr",
          "text": [
            "Epoch 25/50: 100%|██████████| 469/469 [00:13<00:00, 34.36batch/s]\n"
          ]
        },
        {
          "output_type": "stream",
          "name": "stdout",
          "text": [
            "Epoch 25/50 - Gen Loss: 1.4454, Disc Loss: 0.9365, Disc Test Loss: 0.4035, Disc Test Acc: 0.7940\n"
          ]
        },
        {
          "output_type": "stream",
          "name": "stderr",
          "text": [
            "Epoch 26/50: 100%|██████████| 469/469 [00:20<00:00, 22.92batch/s]\n"
          ]
        },
        {
          "output_type": "stream",
          "name": "stdout",
          "text": [
            "Epoch 26/50 - Gen Loss: 1.4612, Disc Loss: 0.9375, Disc Test Loss: 0.4219, Disc Test Acc: 0.8037\n"
          ]
        },
        {
          "output_type": "stream",
          "name": "stderr",
          "text": [
            "Epoch 27/50: 100%|██████████| 469/469 [00:13<00:00, 34.59batch/s]\n"
          ]
        },
        {
          "output_type": "stream",
          "name": "stdout",
          "text": [
            "Epoch 27/50 - Gen Loss: 1.4102, Disc Loss: 0.9599, Disc Test Loss: 0.3226, Disc Test Acc: 0.8380\n"
          ]
        },
        {
          "output_type": "stream",
          "name": "stderr",
          "text": [
            "Epoch 28/50: 100%|██████████| 469/469 [00:20<00:00, 22.92batch/s]\n"
          ]
        },
        {
          "output_type": "stream",
          "name": "stdout",
          "text": [
            "Epoch 28/50 - Gen Loss: 1.4520, Disc Loss: 0.9178, Disc Test Loss: 0.3794, Disc Test Acc: 0.8305\n"
          ]
        },
        {
          "output_type": "stream",
          "name": "stderr",
          "text": [
            "Epoch 29/50: 100%|██████████| 469/469 [00:13<00:00, 34.43batch/s]\n"
          ]
        },
        {
          "output_type": "stream",
          "name": "stdout",
          "text": [
            "Epoch 29/50 - Gen Loss: 1.4045, Disc Loss: 0.9524, Disc Test Loss: 0.4088, Disc Test Acc: 0.7915\n"
          ]
        },
        {
          "output_type": "stream",
          "name": "stderr",
          "text": [
            "Epoch 30/50: 100%|██████████| 469/469 [00:13<00:00, 34.11batch/s]\n"
          ]
        },
        {
          "output_type": "stream",
          "name": "stdout",
          "text": [
            "Epoch 30/50 - Gen Loss: 1.3842, Disc Loss: 0.9723, Disc Test Loss: 0.3836, Disc Test Acc: 0.8150\n",
            "Checkpoint saved at epoch 30.\n"
          ]
        },
        {
          "output_type": "stream",
          "name": "stderr",
          "text": [
            "Epoch 31/50: 100%|██████████| 469/469 [00:13<00:00, 34.38batch/s]\n"
          ]
        },
        {
          "output_type": "stream",
          "name": "stdout",
          "text": [
            "Epoch 31/50 - Gen Loss: 1.3430, Disc Loss: 0.9916, Disc Test Loss: 0.4718, Disc Test Acc: 0.7506\n"
          ]
        },
        {
          "output_type": "stream",
          "name": "stderr",
          "text": [
            "Epoch 32/50: 100%|██████████| 469/469 [00:13<00:00, 34.53batch/s]\n"
          ]
        },
        {
          "output_type": "stream",
          "name": "stdout",
          "text": [
            "Epoch 32/50 - Gen Loss: 1.3645, Disc Loss: 0.9678, Disc Test Loss: 0.4012, Disc Test Acc: 0.8015\n"
          ]
        },
        {
          "output_type": "stream",
          "name": "stderr",
          "text": [
            "Epoch 33/50: 100%|██████████| 469/469 [00:20<00:00, 22.92batch/s]\n"
          ]
        },
        {
          "output_type": "stream",
          "name": "stdout",
          "text": [
            "Epoch 33/50 - Gen Loss: 1.2972, Disc Loss: 1.0147, Disc Test Loss: 0.4724, Disc Test Acc: 0.7457\n"
          ]
        },
        {
          "output_type": "stream",
          "name": "stderr",
          "text": [
            "Epoch 34/50: 100%|██████████| 469/469 [00:13<00:00, 34.32batch/s]\n"
          ]
        },
        {
          "output_type": "stream",
          "name": "stdout",
          "text": [
            "Epoch 34/50 - Gen Loss: 1.2869, Disc Loss: 1.0186, Disc Test Loss: 0.3947, Disc Test Acc: 0.8141\n"
          ]
        },
        {
          "output_type": "stream",
          "name": "stderr",
          "text": [
            "Epoch 35/50: 100%|██████████| 469/469 [00:13<00:00, 33.72batch/s]\n"
          ]
        },
        {
          "output_type": "stream",
          "name": "stdout",
          "text": [
            "Epoch 35/50 - Gen Loss: 1.2957, Disc Loss: 1.0158, Disc Test Loss: 0.4733, Disc Test Acc: 0.7390\n"
          ]
        },
        {
          "output_type": "stream",
          "name": "stderr",
          "text": [
            "Epoch 36/50: 100%|██████████| 469/469 [00:13<00:00, 34.20batch/s]\n"
          ]
        },
        {
          "output_type": "stream",
          "name": "stdout",
          "text": [
            "Epoch 36/50 - Gen Loss: 1.2501, Disc Loss: 1.0395, Disc Test Loss: 0.4805, Disc Test Acc: 0.7549\n"
          ]
        },
        {
          "output_type": "stream",
          "name": "stderr",
          "text": [
            "Epoch 37/50: 100%|██████████| 469/469 [00:13<00:00, 34.13batch/s]\n"
          ]
        },
        {
          "output_type": "stream",
          "name": "stdout",
          "text": [
            "Epoch 37/50 - Gen Loss: 1.2379, Disc Loss: 1.0679, Disc Test Loss: 0.5013, Disc Test Acc: 0.7431\n"
          ]
        },
        {
          "output_type": "stream",
          "name": "stderr",
          "text": [
            "Epoch 38/50: 100%|██████████| 469/469 [00:13<00:00, 34.35batch/s]\n"
          ]
        },
        {
          "output_type": "stream",
          "name": "stdout",
          "text": [
            "Epoch 38/50 - Gen Loss: 1.2426, Disc Loss: 1.0450, Disc Test Loss: 0.4728, Disc Test Acc: 0.7591\n"
          ]
        },
        {
          "output_type": "stream",
          "name": "stderr",
          "text": [
            "Epoch 39/50: 100%|██████████| 469/469 [00:13<00:00, 34.42batch/s]\n"
          ]
        },
        {
          "output_type": "stream",
          "name": "stdout",
          "text": [
            "Epoch 39/50 - Gen Loss: 1.2182, Disc Loss: 1.0528, Disc Test Loss: 0.4883, Disc Test Acc: 0.7625\n"
          ]
        },
        {
          "output_type": "stream",
          "name": "stderr",
          "text": [
            "Epoch 40/50: 100%|██████████| 469/469 [00:13<00:00, 34.38batch/s]\n"
          ]
        },
        {
          "output_type": "stream",
          "name": "stdout",
          "text": [
            "Epoch 40/50 - Gen Loss: 1.2785, Disc Loss: 1.0201, Disc Test Loss: 0.4202, Disc Test Acc: 0.7943\n",
            "Checkpoint saved at epoch 40.\n"
          ]
        },
        {
          "output_type": "stream",
          "name": "stderr",
          "text": [
            "Epoch 41/50: 100%|██████████| 469/469 [00:20<00:00, 22.92batch/s]\n"
          ]
        },
        {
          "output_type": "stream",
          "name": "stdout",
          "text": [
            "Epoch 41/50 - Gen Loss: 1.2309, Disc Loss: 1.0700, Disc Test Loss: 0.4900, Disc Test Acc: 0.7149\n"
          ]
        },
        {
          "output_type": "stream",
          "name": "stderr",
          "text": [
            "Epoch 42/50: 100%|██████████| 469/469 [00:13<00:00, 34.63batch/s]\n"
          ]
        },
        {
          "output_type": "stream",
          "name": "stdout",
          "text": [
            "Epoch 42/50 - Gen Loss: 1.2186, Disc Loss: 1.0614, Disc Test Loss: 0.5093, Disc Test Acc: 0.7365\n"
          ]
        },
        {
          "output_type": "stream",
          "name": "stderr",
          "text": [
            "Epoch 43/50: 100%|██████████| 469/469 [00:13<00:00, 34.17batch/s]\n"
          ]
        },
        {
          "output_type": "stream",
          "name": "stdout",
          "text": [
            "Epoch 43/50 - Gen Loss: 1.1888, Disc Loss: 1.0721, Disc Test Loss: 0.4774, Disc Test Acc: 0.7589\n"
          ]
        },
        {
          "output_type": "stream",
          "name": "stderr",
          "text": [
            "Epoch 44/50: 100%|██████████| 469/469 [00:13<00:00, 34.37batch/s]\n"
          ]
        },
        {
          "output_type": "stream",
          "name": "stdout",
          "text": [
            "Epoch 44/50 - Gen Loss: 1.1630, Disc Loss: 1.0992, Disc Test Loss: 0.5279, Disc Test Acc: 0.7101\n"
          ]
        },
        {
          "output_type": "stream",
          "name": "stderr",
          "text": [
            "Epoch 45/50: 100%|██████████| 469/469 [00:20<00:00, 22.92batch/s]\n"
          ]
        },
        {
          "output_type": "stream",
          "name": "stdout",
          "text": [
            "Epoch 45/50 - Gen Loss: 1.1796, Disc Loss: 1.0823, Disc Test Loss: 0.5235, Disc Test Acc: 0.7106\n"
          ]
        },
        {
          "output_type": "stream",
          "name": "stderr",
          "text": [
            "Epoch 46/50: 100%|██████████| 469/469 [00:13<00:00, 34.68batch/s]\n"
          ]
        },
        {
          "output_type": "stream",
          "name": "stdout",
          "text": [
            "Epoch 46/50 - Gen Loss: 1.1496, Disc Loss: 1.1045, Disc Test Loss: 0.4998, Disc Test Acc: 0.7382\n"
          ]
        },
        {
          "output_type": "stream",
          "name": "stderr",
          "text": [
            "Epoch 47/50: 100%|██████████| 469/469 [00:13<00:00, 34.31batch/s]\n"
          ]
        },
        {
          "output_type": "stream",
          "name": "stdout",
          "text": [
            "Epoch 47/50 - Gen Loss: 1.1319, Disc Loss: 1.1169, Disc Test Loss: 0.5432, Disc Test Acc: 0.6698\n"
          ]
        },
        {
          "output_type": "stream",
          "name": "stderr",
          "text": [
            "Epoch 48/50: 100%|██████████| 469/469 [00:13<00:00, 33.90batch/s]\n"
          ]
        },
        {
          "output_type": "stream",
          "name": "stdout",
          "text": [
            "Epoch 48/50 - Gen Loss: 1.1700, Disc Loss: 1.0933, Disc Test Loss: 0.5474, Disc Test Acc: 0.6996\n"
          ]
        },
        {
          "output_type": "stream",
          "name": "stderr",
          "text": [
            "Epoch 49/50: 100%|██████████| 469/469 [00:13<00:00, 34.38batch/s]\n"
          ]
        },
        {
          "output_type": "stream",
          "name": "stdout",
          "text": [
            "Epoch 49/50 - Gen Loss: 1.1671, Disc Loss: 1.0961, Disc Test Loss: 0.5099, Disc Test Acc: 0.7377\n"
          ]
        },
        {
          "output_type": "stream",
          "name": "stderr",
          "text": [
            "Epoch 50/50: 100%|██████████| 469/469 [00:13<00:00, 34.46batch/s]\n"
          ]
        },
        {
          "output_type": "stream",
          "name": "stdout",
          "text": [
            "Epoch 50/50 - Gen Loss: 1.1115, Disc Loss: 1.1296, Disc Test Loss: 0.4990, Disc Test Acc: 0.7039\n",
            "Checkpoint saved at epoch 50.\n"
          ]
        }
      ]
    },
    {
      "cell_type": "code",
      "source": [
        "\n",
        "# Display generated images from the last epoch\n",
        "last_epoch = EPOCHS\n",
        "generated_image_path = f'generated_images/image_at_epoch_{last_epoch:04d}.png'\n",
        "if os.path.exists(generated_image_path):\n",
        "    display_img = plt.imread(generated_image_path)\n",
        "    plt.figure(figsize=(4,4))\n",
        "    plt.imshow(display_img)\n",
        "    plt.axis('off')\n",
        "    plt.show()\n",
        "else:\n",
        "    print(f\"Generated image for epoch {last_epoch} not found.\")\n"
      ],
      "metadata": {
        "colab": {
          "base_uri": "https://localhost:8080/",
          "height": 345
        },
        "id": "rjKd7tZ21-JW",
        "outputId": "98ee9588-feb1-4f60-f7e2-e0a938429064"
      },
      "execution_count": 11,
      "outputs": [
        {
          "output_type": "display_data",
          "data": {
            "text/plain": [
              "<Figure size 400x400 with 1 Axes>"
            ],
            "image/png": "[encoded data removed]"
          },
          "metadata": {}
        }
      ]
    },
    {
      "cell_type": "code",
      "source": [],
      "metadata": {
        "id": "9MnA6UittQmH"
      },
      "execution_count": null,
      "outputs": []
    },
    {
      "cell_type": "code",
      "source": [],
      "metadata": {
        "id": "8k792VSXtQp0"
      },
      "execution_count": null,
      "outputs": []
    },
    {
      "cell_type": "code",
      "source": [],
      "metadata": {
        "id": "P3Sisr8LtQtg"
      },
      "execution_count": null,
      "outputs": []
    }
  ]
}