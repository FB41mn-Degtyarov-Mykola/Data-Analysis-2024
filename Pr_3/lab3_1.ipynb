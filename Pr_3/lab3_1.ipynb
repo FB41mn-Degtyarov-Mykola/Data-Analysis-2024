{
 "cells": [
  {
   "cell_type": "markdown",
   "id": "c15f6549-79c3-40fa-9e9f-7df3cf4f6f9a",
   "metadata": {},
   "source": [
    "##  Lab 1: Basic classification algorithms using Scikit-learn"
   ]
  },
  {
   "cell_type": "code",
   "execution_count": 4,
   "id": "5d1e3eb4-be4d-4232-aafa-6dc8d1333239",
   "metadata": {},
   "outputs": [],
   "source": [
    "import numpy as np\n",
    "import pandas as pd\n",
    "import matplotlib.pyplot as plt\n",
    "import seaborn as sns"
   ]
  },
  {
   "cell_type": "code",
   "execution_count": 5,
   "id": "a55ad83f",
   "metadata": {},
   "outputs": [],
   "source": [
    "# supress warnings\n",
    "import warnings \n",
    "warnings.filterwarnings('ignore')"
   ]
  },
  {
   "cell_type": "markdown",
   "id": "8ead6da5-72e9-4e94-922c-badb0e0354ec",
   "metadata": {},
   "source": [
    "#### 1. Завантажити дані, вивести назви колонок і розмір датасета"
   ]
  },
  {
   "cell_type": "markdown",
   "id": "c0678cea-44d3-4293-8498-c59c9ba28201",
   "metadata": {},
   "source": [
    "#### Data dictionary"
   ]
  },
  {
   "attachments": {},
   "cell_type": "markdown",
   "id": "c334b81a-e711-4e4f-82ca-076778253300",
   "metadata": {},
   "source": [
    "**Bank client data:**  \n",
    "**1) age:** (numeric)  \n",
    "**2) job:** type of job (categorical: \"admin.\", \"blue-collar\", \"entrepreneur\", \"housemaid\", \"management\", \"retired\", \"self-employed\", \"services\", \"student\", \"technician\", \"unemployed\", \"unknown\")  \n",
    "**3) marital:** marital status (categorical: \"divorced\", \"married\", \"single\", \"unknown\"; note: \"divorced\" means divorced or widowed)  \n",
    "**4) education:** (categorical: \"basic.4y\", \"basic.6y\", \"basic.9y\", \"high.school\", \"illiterate\", \"professional.course\", \"university.degree\", \"unknown\")  \n",
    "**5) default:** has credit in default? (categorical: \"no\", \"yes\", \"unknown\")  \n",
    "**6) housing:** has housing loan? (categorical: \"no\", \"yes\", \"unknown\")  \n",
    "**7) loan:** has personal loan? (categorical: \"no\", \"yes\", \"unknown\")  \n",
    "\n",
    "**Related with the last contact of the current campaign:**  \n",
    "**8) contact:** contact communication type (categorical: \"cellular\", \"telephone\")  \n",
    "**9) month:** last contact month of year (categorical: \"jan\", \"feb\", \"mar\", ..., \"nov\", \"dec\")  \n",
    "**10) day_of_week:** last contact day of the week (categorical: \"mon\", \"tue\", \"wed\", \"thu\", \"fri\")  \n",
    "**11) duration:** last contact duration in seconds (numeric).  \n",
    "Important note: this attribute highly affects the output target (e.g., if duration=0 then y=\"no\"). Yet, the duration is not known before a call is performed. Also, after the end of the call, y is obviously known. Thus, this input should only be included for benchmark purposes and should be discarded if the intention is to have a realistic predictive model.\n",
    "\n",
    "**Other attributes:**  \n",
    "**12) campaign:** number of contacts performed during this campaign and for this client (numeric, includes last contact)  \n",
    "**13) pdays:** number of days that passed by after the client was last contacted from a previous campaign (numeric; 999 means client was not previously contacted)  \n",
    "**14) previous:** number of contacts performed before this campaign and for this client (numeric)  \n",
    "**15) poutcome:** outcome of the previous marketing campaign (categorical: \"failure\", \"nonexistent\", \"success\")  \n",
    "\n",
    "**Social and economic context attributes:**  \n",
    "**16) emp.var.rate:** employment variation rate - quarterly indicator (numeric)  \n",
    "**17) cons.price.idx:** consumer price index - monthly indicator (numeric)  \n",
    "**18) cons.conf.idx:** consumer confidence index - monthly indicator (numeric)  \n",
    "**19) euribor3m:** euribor 3-month rate - daily indicator (numeric)  \n",
    "**20) nr.employed:** number of employees - quarterly indicator (numeric)  \n",
    "\n",
    "**Output variable (desired target):**  \n",
    "**21) y:** has the client subscribed to a term deposit? (binary: \"yes\", \"no\")\n"
   ]
  },
  {
   "cell_type": "markdown",
   "id": "64649b0a-913f-4483-a550-c87f8fb60a38",
   "metadata": {},
   "source": [
    "#### Loading data"
   ]
  },
  {
   "cell_type": "code",
   "execution_count": 6,
   "id": "21ad392f-e9c4-4c64-bf55-91b4134a9ea7",
   "metadata": {},
   "outputs": [],
   "source": [
    "bank_data = pd.read_csv(r\"bank-additional-full.csv\", sep=';')"
   ]
  },
  {
   "cell_type": "code",
   "execution_count": 7,
   "id": "f360a013-401a-4886-bb8a-f2c89ad138a8",
   "metadata": {},
   "outputs": [
    {
     "data": {
      "text/html": [
       "<div>\n",
       "<style scoped>\n",
       "    .dataframe tbody tr th:only-of-type {\n",
       "        vertical-align: middle;\n",
       "    }\n",
       "\n",
       "    .dataframe tbody tr th {\n",
       "        vertical-align: top;\n",
       "    }\n",
       "\n",
       "    .dataframe thead th {\n",
       "        text-align: right;\n",
       "    }\n",
       "</style>\n",
       "<table border=\"1\" class=\"dataframe\">\n",
       "  <thead>\n",
       "    <tr style=\"text-align: right;\">\n",
       "      <th></th>\n",
       "      <th>age</th>\n",
       "      <th>job</th>\n",
       "      <th>marital</th>\n",
       "      <th>education</th>\n",
       "      <th>default</th>\n",
       "      <th>housing</th>\n",
       "      <th>loan</th>\n",
       "      <th>contact</th>\n",
       "      <th>month</th>\n",
       "      <th>day_of_week</th>\n",
       "      <th>...</th>\n",
       "      <th>campaign</th>\n",
       "      <th>pdays</th>\n",
       "      <th>previous</th>\n",
       "      <th>poutcome</th>\n",
       "      <th>emp.var.rate</th>\n",
       "      <th>cons.price.idx</th>\n",
       "      <th>cons.conf.idx</th>\n",
       "      <th>euribor3m</th>\n",
       "      <th>nr.employed</th>\n",
       "      <th>y</th>\n",
       "    </tr>\n",
       "  </thead>\n",
       "  <tbody>\n",
       "    <tr>\n",
       "      <th>0</th>\n",
       "      <td>56</td>\n",
       "      <td>housemaid</td>\n",
       "      <td>married</td>\n",
       "      <td>basic.4y</td>\n",
       "      <td>no</td>\n",
       "      <td>no</td>\n",
       "      <td>no</td>\n",
       "      <td>telephone</td>\n",
       "      <td>may</td>\n",
       "      <td>mon</td>\n",
       "      <td>...</td>\n",
       "      <td>1</td>\n",
       "      <td>999</td>\n",
       "      <td>0</td>\n",
       "      <td>nonexistent</td>\n",
       "      <td>1.1</td>\n",
       "      <td>93.994</td>\n",
       "      <td>-36.4</td>\n",
       "      <td>4.857</td>\n",
       "      <td>5191.0</td>\n",
       "      <td>no</td>\n",
       "    </tr>\n",
       "    <tr>\n",
       "      <th>1</th>\n",
       "      <td>57</td>\n",
       "      <td>services</td>\n",
       "      <td>married</td>\n",
       "      <td>high.school</td>\n",
       "      <td>unknown</td>\n",
       "      <td>no</td>\n",
       "      <td>no</td>\n",
       "      <td>telephone</td>\n",
       "      <td>may</td>\n",
       "      <td>mon</td>\n",
       "      <td>...</td>\n",
       "      <td>1</td>\n",
       "      <td>999</td>\n",
       "      <td>0</td>\n",
       "      <td>nonexistent</td>\n",
       "      <td>1.1</td>\n",
       "      <td>93.994</td>\n",
       "      <td>-36.4</td>\n",
       "      <td>4.857</td>\n",
       "      <td>5191.0</td>\n",
       "      <td>no</td>\n",
       "    </tr>\n",
       "    <tr>\n",
       "      <th>2</th>\n",
       "      <td>37</td>\n",
       "      <td>services</td>\n",
       "      <td>married</td>\n",
       "      <td>high.school</td>\n",
       "      <td>no</td>\n",
       "      <td>yes</td>\n",
       "      <td>no</td>\n",
       "      <td>telephone</td>\n",
       "      <td>may</td>\n",
       "      <td>mon</td>\n",
       "      <td>...</td>\n",
       "      <td>1</td>\n",
       "      <td>999</td>\n",
       "      <td>0</td>\n",
       "      <td>nonexistent</td>\n",
       "      <td>1.1</td>\n",
       "      <td>93.994</td>\n",
       "      <td>-36.4</td>\n",
       "      <td>4.857</td>\n",
       "      <td>5191.0</td>\n",
       "      <td>no</td>\n",
       "    </tr>\n",
       "    <tr>\n",
       "      <th>3</th>\n",
       "      <td>40</td>\n",
       "      <td>admin.</td>\n",
       "      <td>married</td>\n",
       "      <td>basic.6y</td>\n",
       "      <td>no</td>\n",
       "      <td>no</td>\n",
       "      <td>no</td>\n",
       "      <td>telephone</td>\n",
       "      <td>may</td>\n",
       "      <td>mon</td>\n",
       "      <td>...</td>\n",
       "      <td>1</td>\n",
       "      <td>999</td>\n",
       "      <td>0</td>\n",
       "      <td>nonexistent</td>\n",
       "      <td>1.1</td>\n",
       "      <td>93.994</td>\n",
       "      <td>-36.4</td>\n",
       "      <td>4.857</td>\n",
       "      <td>5191.0</td>\n",
       "      <td>no</td>\n",
       "    </tr>\n",
       "    <tr>\n",
       "      <th>4</th>\n",
       "      <td>56</td>\n",
       "      <td>services</td>\n",
       "      <td>married</td>\n",
       "      <td>high.school</td>\n",
       "      <td>no</td>\n",
       "      <td>no</td>\n",
       "      <td>yes</td>\n",
       "      <td>telephone</td>\n",
       "      <td>may</td>\n",
       "      <td>mon</td>\n",
       "      <td>...</td>\n",
       "      <td>1</td>\n",
       "      <td>999</td>\n",
       "      <td>0</td>\n",
       "      <td>nonexistent</td>\n",
       "      <td>1.1</td>\n",
       "      <td>93.994</td>\n",
       "      <td>-36.4</td>\n",
       "      <td>4.857</td>\n",
       "      <td>5191.0</td>\n",
       "      <td>no</td>\n",
       "    </tr>\n",
       "  </tbody>\n",
       "</table>\n",
       "<p>5 rows × 21 columns</p>\n",
       "</div>"
      ],
      "text/plain": [
       "   age        job  marital    education  default housing loan    contact  \\\n",
       "0   56  housemaid  married     basic.4y       no      no   no  telephone   \n",
       "1   57   services  married  high.school  unknown      no   no  telephone   \n",
       "2   37   services  married  high.school       no     yes   no  telephone   \n",
       "3   40     admin.  married     basic.6y       no      no   no  telephone   \n",
       "4   56   services  married  high.school       no      no  yes  telephone   \n",
       "\n",
       "  month day_of_week  ...  campaign  pdays  previous     poutcome emp.var.rate  \\\n",
       "0   may         mon  ...         1    999         0  nonexistent          1.1   \n",
       "1   may         mon  ...         1    999         0  nonexistent          1.1   \n",
       "2   may         mon  ...         1    999         0  nonexistent          1.1   \n",
       "3   may         mon  ...         1    999         0  nonexistent          1.1   \n",
       "4   may         mon  ...         1    999         0  nonexistent          1.1   \n",
       "\n",
       "   cons.price.idx  cons.conf.idx  euribor3m  nr.employed   y  \n",
       "0          93.994          -36.4      4.857       5191.0  no  \n",
       "1          93.994          -36.4      4.857       5191.0  no  \n",
       "2          93.994          -36.4      4.857       5191.0  no  \n",
       "3          93.994          -36.4      4.857       5191.0  no  \n",
       "4          93.994          -36.4      4.857       5191.0  no  \n",
       "\n",
       "[5 rows x 21 columns]"
      ]
     },
     "execution_count": 7,
     "metadata": {},
     "output_type": "execute_result"
    }
   ],
   "source": [
    "bank_data.head()"
   ]
  },
  {
   "cell_type": "code",
   "execution_count": 8,
   "id": "e89b14c2-e25a-4edb-ac41-0a84eb90df52",
   "metadata": {},
   "outputs": [
    {
     "name": "stdout",
     "output_type": "stream",
     "text": [
      "<class 'pandas.core.frame.DataFrame'>\n",
      "RangeIndex: 41188 entries, 0 to 41187\n",
      "Data columns (total 21 columns):\n",
      " #   Column          Non-Null Count  Dtype  \n",
      "---  ------          --------------  -----  \n",
      " 0   age             41188 non-null  int64  \n",
      " 1   job             41188 non-null  object \n",
      " 2   marital         41188 non-null  object \n",
      " 3   education       41188 non-null  object \n",
      " 4   default         41188 non-null  object \n",
      " 5   housing         41188 non-null  object \n",
      " 6   loan            41188 non-null  object \n",
      " 7   contact         41188 non-null  object \n",
      " 8   month           41188 non-null  object \n",
      " 9   day_of_week     41188 non-null  object \n",
      " 10  duration        41188 non-null  int64  \n",
      " 11  campaign        41188 non-null  int64  \n",
      " 12  pdays           41188 non-null  int64  \n",
      " 13  previous        41188 non-null  int64  \n",
      " 14  poutcome        41188 non-null  object \n",
      " 15  emp.var.rate    41188 non-null  float64\n",
      " 16  cons.price.idx  41188 non-null  float64\n",
      " 17  cons.conf.idx   41188 non-null  float64\n",
      " 18  euribor3m       41188 non-null  float64\n",
      " 19  nr.employed     41188 non-null  float64\n",
      " 20  y               41188 non-null  object \n",
      "dtypes: float64(5), int64(5), object(11)\n",
      "memory usage: 6.6+ MB\n"
     ]
    }
   ],
   "source": [
    "bank_data.info()"
   ]
  },
  {
   "cell_type": "code",
   "execution_count": 9,
   "id": "7072ff45-6c4a-48f4-91c0-37c6f460f941",
   "metadata": {},
   "outputs": [
    {
     "data": {
      "text/plain": [
       "Index(['age', 'job', 'marital', 'education', 'default', 'housing', 'loan',\n",
       "       'contact', 'month', 'day_of_week', 'duration', 'campaign', 'pdays',\n",
       "       'previous', 'poutcome', 'emp.var.rate', 'cons.price.idx',\n",
       "       'cons.conf.idx', 'euribor3m', 'nr.employed', 'y'],\n",
       "      dtype='object')"
      ]
     },
     "execution_count": 9,
     "metadata": {},
     "output_type": "execute_result"
    }
   ],
   "source": [
    "bank_data.columns"
   ]
  },
  {
   "cell_type": "code",
   "execution_count": 10,
   "id": "cfcb5727-c305-44f6-8047-12b5b8b61c12",
   "metadata": {},
   "outputs": [
    {
     "data": {
      "text/plain": [
       "(41188, 21)"
      ]
     },
     "execution_count": 10,
     "metadata": {},
     "output_type": "execute_result"
    }
   ],
   "source": [
    "bank_data.shape"
   ]
  },
  {
   "cell_type": "markdown",
   "id": "d22c9cae-fcc9-46f2-b78b-3ee0946c2665",
   "metadata": {},
   "source": [
    "### 2. Processing missing values and duplicates + EDA"
   ]
  },
  {
   "cell_type": "code",
   "execution_count": 11,
   "id": "92375748-6111-4870-a3a8-5b2d76cb1a69",
   "metadata": {},
   "outputs": [
    {
     "data": {
      "text/plain": [
       "age               0\n",
       "job               0\n",
       "marital           0\n",
       "education         0\n",
       "default           0\n",
       "housing           0\n",
       "loan              0\n",
       "contact           0\n",
       "month             0\n",
       "day_of_week       0\n",
       "duration          0\n",
       "campaign          0\n",
       "pdays             0\n",
       "previous          0\n",
       "poutcome          0\n",
       "emp.var.rate      0\n",
       "cons.price.idx    0\n",
       "cons.conf.idx     0\n",
       "euribor3m         0\n",
       "nr.employed       0\n",
       "y                 0\n",
       "dtype: int64"
      ]
     },
     "execution_count": 11,
     "metadata": {},
     "output_type": "execute_result"
    }
   ],
   "source": [
    "# check for missing values\n",
    "bank_data.isnull().sum()"
   ]
  },
  {
   "cell_type": "code",
   "execution_count": 12,
   "id": "540ab1f5-2114-4f60-9473-7f3cf63caefb",
   "metadata": {},
   "outputs": [
    {
     "data": {
      "text/plain": [
       "12"
      ]
     },
     "execution_count": 12,
     "metadata": {},
     "output_type": "execute_result"
    }
   ],
   "source": [
    "# check for duplicates\n",
    "bank_data.duplicated().sum()\n",
    "# df[bank_data.duplicated()]"
   ]
  },
  {
   "cell_type": "code",
   "execution_count": 13,
   "id": "636cc134-157c-4bf9-9d14-73376815838d",
   "metadata": {},
   "outputs": [],
   "source": [
    "# drop duplicates\n",
    "bank_data = bank_data.drop_duplicates()"
   ]
  },
  {
   "cell_type": "code",
   "execution_count": 14,
   "id": "9fed18bc-79fa-43b9-a867-70b85daa69b4",
   "metadata": {},
   "outputs": [],
   "source": [
    "df = bank_data.copy()"
   ]
  },
  {
   "cell_type": "markdown",
   "id": "0e86919c-4e6b-45dc-ac27-3fc03004ea82",
   "metadata": {},
   "source": [
    "### 3. Візуалізувати дані: \n",
    "- побудувати графік (heatmap), що відображає кореляції ознак між собою і з цільовою змінною (розміткою) \n",
    "- побудувати гістограми розподілу ознак \n",
    "- boxplot-и ознак відносно цільової змінної (якщо ознак занадто багато обмежитися декількома)"
   ]
  },
  {
   "cell_type": "code",
   "execution_count": 15,
   "id": "578043c4",
   "metadata": {},
   "outputs": [],
   "source": [
    "def analyze_features(df, features, target):\n",
    "    df_corr = df[features + [target]].copy()\n",
    "    \n",
    "    # Convert the target variable to numeric\n",
    "    if df_corr[target].dtype == 'object':\n",
    "        df_corr[target] = df_corr[target].apply(lambda x: 1 if x == 'yes' else 0)\n",
    "    \n",
    "    # Ensure all columns are of type float\n",
    "    df_corr = df_corr.astype(float)\n",
    "    \n",
    "    # Compute the correlation matrix\n",
    "    corr = df_corr.corr()\n",
    "    \n",
    "    # Heatmap\n",
    "    plt.figure(figsize=(10, 5))\n",
    "    sns.heatmap(corr, annot=True, cmap='coolwarm')\n",
    "    plt.title('Heatmap showing correlation between features', fontsize=15)\n",
    "    plt.show()\n",
    "    \n",
    "    # Histograms of feature distributions\n",
    "    df_corr[features].hist(bins=20, figsize=(15, 10), edgecolor='black')\n",
    "    plt.suptitle('Histograms of Feature Distributions', fontsize=16)\n",
    "    plt.show()\n",
    "    \n",
    "    # Boxplots of features relative to the target variable\n",
    "    fig, axes = plt.subplots(nrows=2, ncols=3, figsize=(18, 12))\n",
    "    fig.suptitle('Boxplots of Features Relative to the Target Variable', fontsize=16)\n",
    "    \n",
    "    for i, feature in enumerate(features):\n",
    "        sns.boxplot(x=target, y=feature, data=df_corr, ax=axes[i//3, i%3])\n",
    "        axes[i//3, i%3].set_title(f'{feature} vs {target}')\n",
    "    \n",
    "    # Remove the empty subplot\n",
    "    if len(features) < 6:\n",
    "        fig.delaxes(axes[1, 2])\n",
    "    \n",
    "    plt.tight_layout(rect=[0, 0, 1, 0.96])\n",
    "    plt.show()\n"
   ]
  },
  {
   "cell_type": "code",
   "execution_count": 31,
   "id": "e63dabcb",
   "metadata": {},
   "outputs": [],
   "source": [
    "# features = ['emp.var.rate', 'cons.price.idx', 'cons.conf.idx', 'euribor3m', 'nr.employed']\n",
    "# target = 'y'\n",
    "# analyze_features(df, features, target)"
   ]
  },
  {
   "cell_type": "markdown",
   "id": "db2c2a2d",
   "metadata": {},
   "source": [
    "#### 4. Нормалізувати дані"
   ]
  },
  {
   "cell_type": "code",
   "execution_count": 17,
   "id": "5000869d",
   "metadata": {},
   "outputs": [],
   "source": [
    "from sklearn.preprocessing import StandardScaler\n",
    "scaler = StandardScaler()\n",
    "\n",
    "df[features] = scaler.fit_transform(df[features])"
   ]
  },
  {
   "cell_type": "markdown",
   "id": "46515848",
   "metadata": {},
   "source": [
    "#### 5. Провести навчання наступних класифікаторів:"
   ]
  },
  {
   "cell_type": "markdown",
   "id": "c92fdbfa",
   "metadata": {},
   "source": [
    "#### KNN"
   ]
  },
  {
   "cell_type": "code",
   "execution_count": 18,
   "id": "14536d12",
   "metadata": {},
   "outputs": [
    {
     "data": {
      "image/png": "[encoded data removed]",
      "text/plain": [
       "<Figure size 1000x500 with 1 Axes>"
      ]
     },
     "metadata": {},
     "output_type": "display_data"
    }
   ],
   "source": [
    "from sklearn.model_selection import train_test_split\n",
    "from sklearn.neighbors import KNeighborsClassifier\n",
    "from sklearn.metrics import classification_report, confusion_matrix\n",
    "\n",
    "# Create a copy of the DataFrame with the selected features and target\n",
    "df_clsf = df[features + [target]].copy()\n",
    "\n",
    "# Convert the target variable to numeric\n",
    "if df_clsf[target].dtype == 'object':\n",
    "    df_clsf[target] = df_clsf[target].apply(lambda x: 1 if x == 'yes' else 0)\n",
    "\n",
    "# Ensure all columns are of type float\n",
    "df_clsf = df_clsf.astype(float)\n",
    "\n",
    "# Split the data into training and testing sets\n",
    "X = df_clsf[features]\n",
    "y = df_clsf[target]\n",
    "X_train, X_test, y_train, y_test = train_test_split(X, y, test_size=0.2, random_state=42)\n",
    "\n",
    "# Train the KNN classifier\n",
    "k_values = range(1, 21)\n",
    "train_scores = []\n",
    "test_scores = []\n",
    "\n",
    "for k in k_values:\n",
    "    knn = KNeighborsClassifier(n_neighbors=k)\n",
    "    knn.fit(X_train, y_train)\n",
    "    \n",
    "    train_score = knn.score(X_train, y_train)\n",
    "    train_scores.append(train_score)\n",
    "    \n",
    "    test_score = knn.score(X_test, y_test)\n",
    "    test_scores.append(test_score)\n",
    "\n",
    "# Plot the training and testing scores\n",
    "plt.figure(figsize=(10, 5))\n",
    "plt.plot(k_values, train_scores, marker='o', label='Training Score')\n",
    "plt.plot(k_values, test_scores, marker='x', label='Testing Score')\n",
    "plt.xlabel('k')\n",
    "plt.ylabel('Accuracy')\n",
    "plt.title('Training and Testing Scores vs k')\n",
    "plt.legend()\n",
    "plt.show()\n"
   ]
  },
  {
   "cell_type": "code",
   "execution_count": 19,
   "id": "735a3f9e",
   "metadata": {},
   "outputs": [
    {
     "name": "stdout",
     "output_type": "stream",
     "text": [
      "Best value of k: 14\n",
      "              precision    recall  f1-score   support\n",
      "\n",
      "         0.0       0.90      0.97      0.94      7265\n",
      "         1.0       0.52      0.21      0.30       971\n",
      "\n",
      "    accuracy                           0.88      8236\n",
      "   macro avg       0.71      0.59      0.62      8236\n",
      "weighted avg       0.86      0.88      0.86      8236\n",
      "\n",
      "[[7079  186]\n",
      " [ 767  204]]\n"
     ]
    }
   ],
   "source": [
    "# Best value of k\n",
    "best_k = k_values[np.argmax(test_scores)]\n",
    "print(f'Best value of k: {best_k}')\n",
    "\n",
    "# Train the KNN classifier with the best value of k\n",
    "\n",
    "knn = KNeighborsClassifier(n_neighbors=best_k)\n",
    "knn.fit(X_train, y_train)\n",
    "y_pred = knn.predict(X_test)\n",
    "\n",
    "# Display the classification report and confusion matrix\n",
    "print(classification_report(y_test, y_pred))\n",
    "print(confusion_matrix(y_test, y_pred))"
   ]
  },
  {
   "cell_type": "markdown",
   "id": "735f1f39",
   "metadata": {},
   "source": [
    "##### Дерево ухвалення рішень"
   ]
  },
  {
   "cell_type": "code",
   "execution_count": 20,
   "id": "e3a1ddeb",
   "metadata": {},
   "outputs": [
    {
     "name": "stdout",
     "output_type": "stream",
     "text": [
      "              precision    recall  f1-score   support\n",
      "\n",
      "         0.0       0.90      0.98      0.94      7265\n",
      "         1.0       0.52      0.19      0.28       971\n",
      "\n",
      "    accuracy                           0.88      8236\n",
      "   macro avg       0.71      0.58      0.61      8236\n",
      "weighted avg       0.86      0.88      0.86      8236\n",
      "\n",
      "[[7094  171]\n",
      " [ 786  185]]\n"
     ]
    }
   ],
   "source": [
    "from sklearn.tree import DecisionTreeClassifier\n",
    "\n",
    "# Train the Decision Tree classifier\n",
    "dt = DecisionTreeClassifier(random_state=42)\n",
    "dt.fit(X_train, y_train)\n",
    "\n",
    "# Predict the target variable\n",
    "y_pred = dt.predict(X_test)\n",
    "\n",
    "# Display the classification report and confusion matrix\n",
    "print(classification_report(y_test, y_pred))\n",
    "print(confusion_matrix(y_test, y_pred))"
   ]
  },
  {
   "cell_type": "markdown",
   "id": "29acfa4e",
   "metadata": {},
   "source": [
    "##### SVM"
   ]
  },
  {
   "cell_type": "code",
   "execution_count": 24,
   "id": "fbfadda3",
   "metadata": {},
   "outputs": [],
   "source": [
    "from sklearn.svm import SVC\n",
    "from sklearn.model_selection import GridSearchCV"
   ]
  },
  {
   "cell_type": "code",
   "execution_count": null,
   "id": "3abde252",
   "metadata": {},
   "outputs": [
    {
     "name": "stdout",
     "output_type": "stream",
     "text": [
      "Fitting 5 folds for each of 16 candidates, totalling 80 fits\n",
      "[CV] END .........................C=0.1, gamma=1, kernel=rbf; total time=   5.9s\n",
      "[CV] END .........................C=0.1, gamma=1, kernel=rbf; total time=   5.7s\n",
      "[CV] END .........................C=0.1, gamma=1, kernel=rbf; total time=   6.2s\n",
      "[CV] END .........................C=0.1, gamma=1, kernel=rbf; total time=   7.2s\n",
      "[CV] END .........................C=0.1, gamma=1, kernel=rbf; total time=   9.2s\n",
      "[CV] END .......................C=0.1, gamma=0.1, kernel=rbf; total time=   9.3s\n",
      "[CV] END .......................C=0.1, gamma=0.1, kernel=rbf; total time=   9.2s\n",
      "[CV] END .......................C=0.1, gamma=0.1, kernel=rbf; total time=   6.0s\n",
      "[CV] END .......................C=0.1, gamma=0.1, kernel=rbf; total time=   8.3s\n",
      "[CV] END .......................C=0.1, gamma=0.1, kernel=rbf; total time=   5.6s\n",
      "[CV] END ......................C=0.1, gamma=0.01, kernel=rbf; total time=   5.8s\n",
      "[CV] END ......................C=0.1, gamma=0.01, kernel=rbf; total time=   6.2s\n",
      "[CV] END ......................C=0.1, gamma=0.01, kernel=rbf; total time=   6.8s\n",
      "[CV] END ......................C=0.1, gamma=0.01, kernel=rbf; total time=   6.4s\n",
      "[CV] END ......................C=0.1, gamma=0.01, kernel=rbf; total time=   6.0s\n",
      "[CV] END .....................C=0.1, gamma=0.001, kernel=rbf; total time=   6.2s\n",
      "[CV] END .....................C=0.1, gamma=0.001, kernel=rbf; total time=   6.1s\n",
      "[CV] END .....................C=0.1, gamma=0.001, kernel=rbf; total time=   6.0s\n",
      "[CV] END .....................C=0.1, gamma=0.001, kernel=rbf; total time=   5.6s\n",
      "[CV] END .....................C=0.1, gamma=0.001, kernel=rbf; total time=   5.8s\n",
      "[CV] END ...........................C=1, gamma=1, kernel=rbf; total time=   5.7s\n",
      "[CV] END ...........................C=1, gamma=1, kernel=rbf; total time=   5.6s\n",
      "[CV] END ...........................C=1, gamma=1, kernel=rbf; total time=   6.3s\n",
      "[CV] END ...........................C=1, gamma=1, kernel=rbf; total time=   5.4s\n",
      "[CV] END ...........................C=1, gamma=1, kernel=rbf; total time=   5.7s\n",
      "[CV] END .........................C=1, gamma=0.1, kernel=rbf; total time=   5.6s\n",
      "[CV] END .........................C=1, gamma=0.1, kernel=rbf; total time=   6.3s\n",
      "[CV] END .........................C=1, gamma=0.1, kernel=rbf; total time=   6.1s\n",
      "[CV] END .........................C=1, gamma=0.1, kernel=rbf; total time=   6.7s\n",
      "[CV] END .........................C=1, gamma=0.1, kernel=rbf; total time=   6.1s\n",
      "[CV] END ........................C=1, gamma=0.01, kernel=rbf; total time=   6.8s\n",
      "[CV] END ........................C=1, gamma=0.01, kernel=rbf; total time=   6.6s\n",
      "[CV] END ........................C=1, gamma=0.01, kernel=rbf; total time=   6.9s\n",
      "[CV] END ........................C=1, gamma=0.01, kernel=rbf; total time=   6.7s\n",
      "[CV] END ........................C=1, gamma=0.01, kernel=rbf; total time=   6.8s\n",
      "[CV] END .......................C=1, gamma=0.001, kernel=rbf; total time=   7.0s\n",
      "[CV] END .......................C=1, gamma=0.001, kernel=rbf; total time=   6.8s\n",
      "[CV] END .......................C=1, gamma=0.001, kernel=rbf; total time=   6.5s\n",
      "[CV] END .......................C=1, gamma=0.001, kernel=rbf; total time=   7.3s\n",
      "[CV] END .......................C=1, gamma=0.001, kernel=rbf; total time=   7.1s\n",
      "[CV] END ..........................C=10, gamma=1, kernel=rbf; total time=   6.2s\n",
      "[CV] END ..........................C=10, gamma=1, kernel=rbf; total time=   5.7s\n",
      "[CV] END ..........................C=10, gamma=1, kernel=rbf; total time=   5.9s\n",
      "[CV] END ..........................C=10, gamma=1, kernel=rbf; total time=   5.8s\n",
      "[CV] END ..........................C=10, gamma=1, kernel=rbf; total time=   5.9s\n",
      "[CV] END ........................C=10, gamma=0.1, kernel=rbf; total time=   7.1s\n",
      "[CV] END ........................C=10, gamma=0.1, kernel=rbf; total time=   7.2s\n",
      "[CV] END ........................C=10, gamma=0.1, kernel=rbf; total time=   6.9s\n",
      "[CV] END ........................C=10, gamma=0.1, kernel=rbf; total time=   7.2s\n",
      "[CV] END ........................C=10, gamma=0.1, kernel=rbf; total time=   7.5s\n",
      "[CV] END .......................C=10, gamma=0.01, kernel=rbf; total time=   7.9s\n",
      "[CV] END .......................C=10, gamma=0.01, kernel=rbf; total time=   8.1s\n",
      "[CV] END .......................C=10, gamma=0.01, kernel=rbf; total time=   7.7s\n",
      "[CV] END .......................C=10, gamma=0.01, kernel=rbf; total time=   7.5s\n",
      "[CV] END .......................C=10, gamma=0.01, kernel=rbf; total time=   7.9s\n",
      "[CV] END ......................C=10, gamma=0.001, kernel=rbf; total time=   7.4s\n",
      "[CV] END ......................C=10, gamma=0.001, kernel=rbf; total time=   7.9s\n",
      "[CV] END ......................C=10, gamma=0.001, kernel=rbf; total time=   7.3s\n",
      "[CV] END ......................C=10, gamma=0.001, kernel=rbf; total time=   6.9s\n",
      "[CV] END ......................C=10, gamma=0.001, kernel=rbf; total time=   7.1s\n",
      "[CV] END .........................C=100, gamma=1, kernel=rbf; total time=   9.2s\n",
      "[CV] END .........................C=100, gamma=1, kernel=rbf; total time=  16.1s\n",
      "[CV] END .........................C=100, gamma=1, kernel=rbf; total time=  12.6s\n",
      "[CV] END .........................C=100, gamma=1, kernel=rbf; total time=  12.2s\n",
      "[CV] END .........................C=100, gamma=1, kernel=rbf; total time=  13.7s\n",
      "[CV] END .......................C=100, gamma=0.1, kernel=rbf; total time=   8.3s\n",
      "[CV] END .......................C=100, gamma=0.1, kernel=rbf; total time=   8.6s\n",
      "[CV] END .......................C=100, gamma=0.1, kernel=rbf; total time=   9.9s\n",
      "[CV] END .......................C=100, gamma=0.1, kernel=rbf; total time=   7.6s\n",
      "[CV] END .......................C=100, gamma=0.1, kernel=rbf; total time=  11.3s\n",
      "[CV] END ......................C=100, gamma=0.01, kernel=rbf; total time=   9.1s\n",
      "[CV] END ......................C=100, gamma=0.01, kernel=rbf; total time=   8.9s\n",
      "[CV] END ......................C=100, gamma=0.01, kernel=rbf; total time=   9.5s\n",
      "[CV] END ......................C=100, gamma=0.01, kernel=rbf; total time=   8.7s\n",
      "[CV] END ......................C=100, gamma=0.01, kernel=rbf; total time=   8.7s\n",
      "[CV] END .....................C=100, gamma=0.001, kernel=rbf; total time=   9.4s\n",
      "[CV] END .....................C=100, gamma=0.001, kernel=rbf; total time=   8.0s\n",
      "[CV] END .....................C=100, gamma=0.001, kernel=rbf; total time=  10.3s\n",
      "[CV] END .....................C=100, gamma=0.001, kernel=rbf; total time=  11.8s\n",
      "[CV] END .....................C=100, gamma=0.001, kernel=rbf; total time=  11.3s\n",
      "Best parameters found: {'C': 10, 'gamma': 0.1, 'kernel': 'rbf'}\n",
      "              precision    recall  f1-score   support\n",
      "\n",
      "         0.0       0.90      0.98      0.94      7265\n",
      "         1.0       0.55      0.18      0.27       971\n",
      "\n",
      "    accuracy                           0.89      8236\n",
      "   macro avg       0.72      0.58      0.60      8236\n",
      "weighted avg       0.86      0.89      0.86      8236\n",
      "\n",
      "[[7125  140]\n",
      " [ 801  170]]\n"
     ]
    }
   ],
   "source": [
    "# # Define the parameter grid for GridSearchCV\n",
    "# param_grid = {\n",
    "#     'C': [0.1, 1, 10, 100],\n",
    "#     'gamma': [1, 0.1, 0.01, 0.001],\n",
    "#     'kernel': ['rbf']\n",
    "# }\n",
    "\n",
    "# # Initialize the SVM classifier\n",
    "# svm = SVC()\n",
    "\n",
    "# # Initialize GridSearchCV\n",
    "# grid_search = GridSearchCV(svm, param_grid, refit=True, verbose=2, cv=5)\n",
    "\n",
    "# # Fit the model\n",
    "# grid_search.fit(X_train, y_train)\n",
    "\n",
    "# # Print the best parameters found by GridSearchCV\n",
    "# print(f\"Best parameters found: {grid_search.best_params_}\")\n",
    "\n",
    "# # Predict the target variable using the best estimator\n",
    "# y_pred = grid_search.best_estimator_.predict(X_test)\n",
    "\n",
    "# # Display the classification report and confusion matrix\n",
    "# print(classification_report(y_test, y_pred))\n",
    "# print(confusion_matrix(y_test, y_pred))"
   ]
  },
  {
   "cell_type": "markdown",
   "id": "edde80a8",
   "metadata": {},
   "source": [
    "##### Random Forest"
   ]
  },
  {
   "cell_type": "code",
   "execution_count": 21,
   "id": "b58edce8",
   "metadata": {},
   "outputs": [
    {
     "name": "stdout",
     "output_type": "stream",
     "text": [
      "              precision    recall  f1-score   support\n",
      "\n",
      "         0.0       0.90      0.97      0.94      7265\n",
      "         1.0       0.53      0.21      0.30       971\n",
      "\n",
      "    accuracy                           0.88      8236\n",
      "   macro avg       0.71      0.59      0.62      8236\n",
      "weighted avg       0.86      0.88      0.86      8236\n",
      "\n",
      "[[7081  184]\n",
      " [ 767  204]]\n"
     ]
    }
   ],
   "source": [
    "from sklearn.ensemble import RandomForestClassifier\n",
    "\n",
    "# Train the Random Forest classifier\n",
    "rf = RandomForestClassifier(random_state=42)\n",
    "rf.fit(X_train, y_train)\n",
    "\n",
    "# Predict the target variable\n",
    "y_pred = rf.predict(X_test)\n",
    "\n",
    "# Display the classification report and confusion matrix\n",
    "print(classification_report(y_test, y_pred))\n",
    "print(confusion_matrix(y_test, y_pred))"
   ]
  },
  {
   "cell_type": "markdown",
   "id": "a5ca1102",
   "metadata": {},
   "source": [
    "##### AdaBoost"
   ]
  },
  {
   "cell_type": "code",
   "execution_count": 22,
   "id": "d9ae6269",
   "metadata": {},
   "outputs": [
    {
     "name": "stdout",
     "output_type": "stream",
     "text": [
      "              precision    recall  f1-score   support\n",
      "\n",
      "         0.0       0.89      0.99      0.94      7265\n",
      "         1.0       0.56      0.13      0.22       971\n",
      "\n",
      "    accuracy                           0.89      8236\n",
      "   macro avg       0.73      0.56      0.58      8236\n",
      "weighted avg       0.86      0.89      0.85      8236\n",
      "\n",
      "[[7162  103]\n",
      " [ 841  130]]\n"
     ]
    }
   ],
   "source": [
    "from sklearn.ensemble import AdaBoostClassifier\n",
    "\n",
    "# Train the AdaBoost classifier\n",
    "ada = AdaBoostClassifier(n_estimators=100, random_state=42)\n",
    "ada.fit(X_train, y_train)\n",
    "\n",
    "# Predict the target variable\n",
    "y_pred = ada.predict(X_test)\n",
    "\n",
    "# Display the classification report and confusion matrix\n",
    "print(classification_report(y_test, y_pred))\n",
    "print(confusion_matrix(y_test, y_pred))"
   ]
  },
  {
   "cell_type": "code",
   "execution_count": 25,
   "id": "3effcae6",
   "metadata": {},
   "outputs": [
    {
     "name": "stdout",
     "output_type": "stream",
     "text": [
      "Model: KNN\n",
      "Accuracy: 0.8842884895580378\n",
      "F1 Score: 0.8618148160731213\n",
      "[[7079  186]\n",
      " [ 767  204]]\n",
      "\n",
      "\n",
      "Model: Decision Tree\n",
      "Accuracy: 0.8838028169014085\n",
      "F1 Score: 0.8592361799539542\n",
      "[[7094  171]\n",
      " [ 786  185]]\n",
      "\n",
      "\n",
      "Model: SVM\n",
      "Accuracy: 0.8857455075279261\n",
      "F1 Score: 0.8587534254526586\n",
      "[[7125  140]\n",
      " [ 801  170]]\n",
      "\n",
      "\n",
      "Model: Random Forest\n",
      "Accuracy: 0.8845313258863526\n",
      "F1 Score: 0.8619909258717957\n",
      "[[7081  184]\n",
      " [ 767  204]]\n",
      "\n",
      "\n",
      "Model: AdaBoost\n",
      "Accuracy: 0.8853812530354541\n",
      "F1 Score: 0.853023210464322\n",
      "[[7162  103]\n",
      " [ 841  130]]\n",
      "\n",
      "\n",
      "The best model is: SVM with Accuracy: 0.8857455075279261 and F1 Score: 0.8587534254526586\n"
     ]
    }
   ],
   "source": [
    "best_svm = SVC(C=10, gamma=0.1, kernel='rbf')\n",
    "best_svm.fit(X_train, y_train)\n",
    "\n",
    "# Compare the models based on their accuracy\n",
    "models = {\n",
    "    'KNN': knn,\n",
    "    'Decision Tree': dt,\n",
    "    'SVM': best_svm,\n",
    "    'Random Forest': rf,\n",
    "    'AdaBoost': ada\n",
    "}\n",
    "\n",
    "# Evaluate the models\n",
    "best_model_name = None\n",
    "best_accuracy = 0\n",
    "best_f1_score = 0\n",
    "\n",
    "for name, model in models.items():\n",
    "    print(f\"Model: {name}\")\n",
    "    y_pred = model.predict(X_test)\n",
    "    report = classification_report(y_test, y_pred, output_dict=True)\n",
    "    accuracy = report['accuracy']\n",
    "    f1_score = report['weighted avg']['f1-score']\n",
    "    \n",
    "    print(f\"Accuracy: {accuracy}\")\n",
    "    print(f\"F1 Score: {f1_score}\")\n",
    "    print(confusion_matrix(y_test, y_pred))\n",
    "    print(\"\\n\")\n",
    "    \n",
    "    if accuracy > best_accuracy or (accuracy == best_accuracy and f1_score > best_f1_score):\n",
    "        best_accuracy = accuracy\n",
    "        best_f1_score = f1_score\n",
    "        best_model_name = name\n",
    "\n",
    "print(f\"The best model is: {best_model_name} with Accuracy: {best_accuracy} and F1 Score: {best_f1_score}\")"
   ]
  },
  {
   "cell_type": "markdown",
   "id": "195f576b",
   "metadata": {},
   "source": [
    "### Вирішіть завдання класифікації даних, з якими ви працювали в лабораторній № 1 за допомогою повнозв’язаної нейромережі прямого поширення (fully connected feed-forward network) \n",
    "Результати порівняйте з одержаними раніше."
   ]
  },
  {
   "cell_type": "code",
   "execution_count": null,
   "id": "c253ac08",
   "metadata": {},
   "outputs": [
    {
     "name": "stdout",
     "output_type": "stream",
     "text": [
      "Neural Network Accuracy: 0.8862311840057373\n",
      "\u001b[1m258/258\u001b[0m \u001b[32m━━━━━━━━━━━━━━━━━━━━\u001b[0m\u001b[37m\u001b[0m \u001b[1m0s\u001b[0m 1ms/step\n",
      "              precision    recall  f1-score   support\n",
      "\n",
      "         0.0       0.91      0.97      0.94      7265\n",
      "         1.0       0.54      0.26      0.35       971\n",
      "\n",
      "    accuracy                           0.89      8236\n",
      "   macro avg       0.72      0.61      0.64      8236\n",
      "weighted avg       0.86      0.89      0.87      8236\n",
      "\n",
      "[[7050  215]\n",
      " [ 722  249]]\n",
      "Model: KNN\n",
      "Accuracy: 0.8842884895580378\n",
      "F1 Score: 0.8618148160731213\n",
      "[[7079  186]\n",
      " [ 767  204]]\n",
      "\n",
      "\n",
      "Model: Decision Tree\n",
      "Accuracy: 0.8838028169014085\n",
      "F1 Score: 0.8592361799539542\n",
      "[[7094  171]\n",
      " [ 786  185]]\n",
      "\n",
      "\n",
      "Model: SVM\n",
      "Accuracy: 0.8857455075279261\n",
      "F1 Score: 0.8587534254526586\n",
      "[[7125  140]\n",
      " [ 801  170]]\n",
      "\n",
      "\n",
      "Model: Random Forest\n",
      "Accuracy: 0.8845313258863526\n",
      "F1 Score: 0.8619909258717957\n",
      "[[7081  184]\n",
      " [ 767  204]]\n",
      "\n",
      "\n",
      "Model: AdaBoost\n",
      "Accuracy: 0.8853812530354541\n",
      "F1 Score: 0.853023210464322\n",
      "[[7162  103]\n",
      " [ 841  130]]\n",
      "\n",
      "\n",
      "Model: Neural Network\n",
      "Accuracy: 0.8862311801845556\n",
      "F1 Score: 0.8680513054556988\n",
      "[[7050  215]\n",
      " [ 722  249]]\n",
      "\n",
      "\n",
      "The best model is: Neural Network with Accuracy: 0.8862311801845556 and F1 Score: 0.8680513054556988\n"
     ]
    }
   ],
   "source": [
    "import tensorflow as tf\n",
    "from tensorflow.keras.models import Sequential\n",
    "from tensorflow.keras.layers import Dense\n",
    "from tensorflow.keras.utils import to_categorical\n"
   ]
  },
  {
   "cell_type": "code",
   "execution_count": 29,
   "id": "2c1eee63",
   "metadata": {},
   "outputs": [
    {
     "name": "stdout",
     "output_type": "stream",
     "text": [
      "Neural Network Accuracy: 0.8856241106987\n",
      "\u001b[1m258/258\u001b[0m \u001b[32m━━━━━━━━━━━━━━━━━━━━\u001b[0m\u001b[37m\u001b[0m \u001b[1m0s\u001b[0m 1ms/step\n",
      "              precision    recall  f1-score   support\n",
      "\n",
      "         0.0       0.90      0.97      0.94      7265\n",
      "         1.0       0.54      0.23      0.32       971\n",
      "\n",
      "    accuracy                           0.89      8236\n",
      "   macro avg       0.72      0.60      0.63      8236\n",
      "weighted avg       0.86      0.89      0.86      8236\n",
      "\n",
      "[[7073  192]\n",
      " [ 750  221]]\n"
     ]
    }
   ],
   "source": [
    "\n",
    "# Convert the target variable to categorical\n",
    "y_train_cat = to_categorical(y_train)\n",
    "y_test_cat = to_categorical(y_test)\n",
    "\n",
    "# Define the neural network model\n",
    "model = Sequential()\n",
    "model.add(Dense(64, input_dim=X_train.shape[1], activation='relu'))\n",
    "model.add(Dense(32, activation='relu'))\n",
    "model.add(Dense(2, activation='softmax'))\n",
    "\n",
    "# Compile the model\n",
    "model.compile(optimizer='adam', loss='categorical_crossentropy', metrics=['accuracy'])\n",
    "\n",
    "# Train the model\n",
    "history = model.fit(X_train, y_train_cat, epochs=50, batch_size=32, validation_data=(X_test, y_test_cat), verbose=0)\n",
    "\n",
    "# Evaluate the model\n",
    "loss, accuracy = model.evaluate(X_test, y_test_cat, verbose=0)\n",
    "print(f\"Neural Network Accuracy: {accuracy}\")\n",
    "\n",
    "# Predict the target variable\n",
    "y_pred_nn = model.predict(X_test)\n",
    "y_pred_nn_classes = np.argmax(y_pred_nn, axis=1)\n",
    "\n",
    "# Display the classification report and confusion matrix\n",
    "print(classification_report(y_test, y_pred_nn_classes))\n",
    "print(confusion_matrix(y_test, y_pred_nn_classes))\n"
   ]
  },
  {
   "cell_type": "code",
   "execution_count": 30,
   "id": "40b26140",
   "metadata": {},
   "outputs": [
    {
     "name": "stdout",
     "output_type": "stream",
     "text": [
      "Model: KNN\n",
      "Accuracy: 0.8842884895580378\n",
      "F1 Score: 0.8618148160731213\n",
      "[[7079  186]\n",
      " [ 767  204]]\n",
      "\n",
      "\n",
      "Model: Decision Tree\n",
      "Accuracy: 0.8838028169014085\n",
      "F1 Score: 0.8592361799539542\n",
      "[[7094  171]\n",
      " [ 786  185]]\n",
      "\n",
      "\n",
      "Model: SVM\n",
      "Accuracy: 0.8857455075279261\n",
      "F1 Score: 0.8587534254526586\n",
      "[[7125  140]\n",
      " [ 801  170]]\n",
      "\n",
      "\n",
      "Model: Random Forest\n",
      "Accuracy: 0.8845313258863526\n",
      "F1 Score: 0.8619909258717957\n",
      "[[7081  184]\n",
      " [ 767  204]]\n",
      "\n",
      "\n",
      "Model: AdaBoost\n",
      "Accuracy: 0.8853812530354541\n",
      "F1 Score: 0.853023210464322\n",
      "[[7162  103]\n",
      " [ 841  130]]\n",
      "\n",
      "\n",
      "Model: Neural Network\n",
      "Accuracy: 0.8856240893637688\n",
      "F1 Score: 0.8646820798493969\n",
      "[[7073  192]\n",
      " [ 750  221]]\n",
      "\n",
      "\n",
      "The best model is: SVM with Accuracy: 0.8857455075279261 and F1 Score: 0.8587534254526586\n"
     ]
    }
   ],
   "source": [
    "\n",
    "# Compare the neural network with other models\n",
    "models['Neural Network'] = model\n",
    "\n",
    "best_model_name = None\n",
    "best_accuracy = 0\n",
    "best_f1_score = 0\n",
    "\n",
    "for name, model in models.items():\n",
    "    print(f\"Model: {name}\")\n",
    "    if name == 'Neural Network':\n",
    "        y_pred = y_pred_nn_classes\n",
    "    else:\n",
    "        y_pred = model.predict(X_test)\n",
    "    report = classification_report(y_test, y_pred, output_dict=True)\n",
    "    accuracy = report['accuracy']\n",
    "    f1_score = report['weighted avg']['f1-score']\n",
    "    \n",
    "    print(f\"Accuracy: {accuracy}\")\n",
    "    print(f\"F1 Score: {f1_score}\")\n",
    "    print(confusion_matrix(y_test, y_pred))\n",
    "    print(\"\\n\")\n",
    "    \n",
    "    if accuracy > best_accuracy or (accuracy == best_accuracy and f1_score > best_f1_score):\n",
    "        best_accuracy = accuracy\n",
    "        best_f1_score = f1_score\n",
    "        best_model_name = name\n",
    "\n",
    "print(f\"The best model is: {best_model_name} with Accuracy: {best_accuracy} and F1 Score: {best_f1_score}\")"
   ]
  }
 ],
 "metadata": {
  "kernelspec": {
   "display_name": "Python 3",
   "language": "python",
   "name": "python3"
  },
  "language_info": {
   "codemirror_mode": {
    "name": "ipython",
    "version": 3
   },
   "file_extension": ".py",
   "mimetype": "text/x-python",
   "name": "python",
   "nbconvert_exporter": "python",
   "pygments_lexer": "ipython3",
   "version": "3.11.9"
  }
 },
 "nbformat": 4,
 "nbformat_minor": 5
}
